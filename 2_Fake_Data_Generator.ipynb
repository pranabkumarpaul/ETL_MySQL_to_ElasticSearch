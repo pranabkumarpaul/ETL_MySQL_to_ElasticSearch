{
 "cells": [
  {
   "cell_type": "markdown",
   "id": "a0e472b7",
   "metadata": {},
   "source": [
    "<center><font size = 6><b>Generate Fake Data & Load To MySQL DB</b></font></center>"
   ]
  },
  {
   "cell_type": "markdown",
   "id": "aace6983",
   "metadata": {},
   "source": [
    "### Module"
   ]
  },
  {
   "cell_type": "code",
   "execution_count": 1,
   "id": "a67a19f5",
   "metadata": {},
   "outputs": [],
   "source": [
    "# !pip install Faker\n",
    "# !pip install pymysql"
   ]
  },
  {
   "cell_type": "code",
   "execution_count": 2,
   "id": "6f967e82",
   "metadata": {},
   "outputs": [
    {
     "name": "stdout",
     "output_type": "stream",
     "text": [
      "Pandas Version :- 1.5.3\n",
      "Faker Version :- 19.2.0\n",
      "PyMySQL Version :- 1.4.6\n"
     ]
    }
   ],
   "source": [
    "import re\n",
    "import faker\n",
    "import pymysql\n",
    "import pandas as pd\n",
    "\n",
    "from faker import Faker\n",
    "fake = Faker()\n",
    "\n",
    "print(f\"Pandas Version :- {pd.__version__}\")\n",
    "print(f\"Faker Version :- {faker.VERSION}\")\n",
    "print(f\"PyMySQL Version :- {pymysql.__version__}\")"
   ]
  },
  {
   "cell_type": "markdown",
   "id": "9cfeb670",
   "metadata": {},
   "source": [
    "### Required Inputs"
   ]
  },
  {
   "cell_type": "code",
   "execution_count": 3,
   "id": "6a33c313",
   "metadata": {},
   "outputs": [],
   "source": [
    "# Database Credentials\n",
    "\n",
    "username = 'root'\n",
    "password = 'MySql_1234'\n",
    "host = 'localhost'\n",
    "port = 3306\n",
    "DB_NAME = 'store'"
   ]
  },
  {
   "cell_type": "code",
   "execution_count": 4,
   "id": "b70b38a5",
   "metadata": {},
   "outputs": [],
   "source": [
    "# Database Queries\n",
    "DB_Schema= \"company\"\n",
    "DB_Table= \"employee_details\"\n",
    "\n",
    "DB_Queries = [\n",
    "f\"CREATE DATABASE IF NOT EXISTS {DB_Schema};\",\n",
    "f\"USE {DB_Schema};\",\n",
    "f\"\"\"CREATE TABLE IF NOT EXISTS {DB_Schema}.{DB_Table}(\n",
    "row_no INT, emp_id INT PRIMARY KEY, \n",
    "first_name VARCHAR(100), last_name VARCHAR(100), \n",
    "phone BIGINT, email VARCHAR(100), \n",
    "primary_skills VARCHAR(100), experience INT, \n",
    "salary INT, gender VARCHAR(100),\n",
    "street_addr VARCHAR(100), city VARCHAR(100),\n",
    "state VARCHAR(100), zipcode INT  );\"\"\"\n",
    "]\n",
    "\n",
    "Insert_Query = f\"\"\"INSERT INTO {DB_Schema}.{DB_Table} (\n",
    "row_no,emp_id,first_name,last_name,phone,email,primary_skills,\n",
    "experience, salary,gender,street_addr,city,state,zipcode)\n",
    "VALUES (%s,%s,%s,%s,%s,%s,%s,%s,%s,%s,%s,%s,%s,%s)\"\"\""
   ]
  },
  {
   "cell_type": "code",
   "execution_count": 5,
   "id": "528ad6e1",
   "metadata": {},
   "outputs": [],
   "source": [
    "# Inputs For Fake Data Generation\n",
    "\n",
    "Gender = [\"Male\",\"Female\"]\n",
    "No_Of_EMP = 50\n",
    "Skills  = ['Python', 'HTML', 'JavaScript',\n",
    "               'CSS', 'PHP', 'SQL', 'C++', 'Ruby', 'SQL']"
   ]
  },
  {
   "cell_type": "markdown",
   "id": "64e0a790",
   "metadata": {},
   "source": [
    "### UDF"
   ]
  },
  {
   "cell_type": "code",
   "execution_count": 6,
   "id": "eea5951f",
   "metadata": {},
   "outputs": [],
   "source": [
    "# This will generate name as per gender\n",
    "def Name_Generator(gender):\n",
    "    if gender == \"Male\":\n",
    "        return fake.first_name_male()\n",
    "    else:\n",
    "        return fake.first_name_female()\n",
    "\n",
    "# This will generate phone number    \n",
    "def Ph_No_Generator():\n",
    "    ph = fake.basic_phone_number()\n",
    "    # Removing everything which is not number\n",
    "    ph = int(re.sub(r'[^0-9]',r'', ph))\n",
    "    \n",
    "    return ph\n",
    "\n",
    "# MySQL DB Connection & Cursor\n",
    "def Create_DB_Connection(username,password,host,port):\n",
    "    return pymysql.connect(user = username,\n",
    "                           password = password,\n",
    "                           host = host,\n",
    "                           port = port)"
   ]
  },
  {
   "cell_type": "markdown",
   "id": "77a59559",
   "metadata": {},
   "source": [
    "### Create DB Connection"
   ]
  },
  {
   "cell_type": "code",
   "execution_count": 7,
   "id": "646846a0",
   "metadata": {},
   "outputs": [],
   "source": [
    "Conn = Create_DB_Connection(username,password,host,port)\n",
    "Conn.autocommit = False\n",
    "Cursor = Conn.cursor()"
   ]
  },
  {
   "cell_type": "markdown",
   "id": "e435b11e",
   "metadata": {},
   "source": [
    "### Create Schema & Table"
   ]
  },
  {
   "cell_type": "code",
   "execution_count": 8,
   "id": "69dcc019",
   "metadata": {},
   "outputs": [],
   "source": [
    "try:\n",
    "    for each_query in DB_Queries:  \n",
    "        Cursor.execute(each_query)\n",
    "        Conn.commit()\n",
    "    \n",
    "except Exception as e:\n",
    "    Conn.rollback()\n",
    "    print(e)"
   ]
  },
  {
   "cell_type": "markdown",
   "id": "f289a168",
   "metadata": {},
   "source": [
    "### Generate Fake Data & Load To MySQL DB"
   ]
  },
  {
   "cell_type": "code",
   "execution_count": 9,
   "id": "791b1665",
   "metadata": {},
   "outputs": [],
   "source": [
    "Row_No = 0\n",
    "try:\n",
    "    for each_gender in Gender:\n",
    "        for _ in range(No_Of_EMP):\n",
    "            row_no = Row_No + 1,\n",
    "            emp_id = fake.unique.random_int(min=1001, max=99999999),\n",
    "            first_name = Name_Generator(gender = each_gender),\n",
    "            last_name = fake.last_name(),\n",
    "            phone = Ph_No_Generator(),\n",
    "            email = fake.email(),\n",
    "            primary_skills = fake.random_element(elements=(Skills)),\n",
    "            experience = fake.random_int(min=0, max=35),\n",
    "            salary = fake.random_int(min=50000, max=100000, step=1000),\n",
    "            gender = each_gender,\n",
    "            street_addr = fake.street_address(),\n",
    "            city = fake.city(),\n",
    "            state = fake.state_abbr(),\n",
    "            zipcode = (fake.zipcode())\n",
    "\n",
    "            Cursor.execute(Insert_Query,(row_no,emp_id,first_name,last_name,\n",
    "                                 phone,email,primary_skills,experience,\n",
    "                                 salary,gender,street_addr,city,state,zipcode))\n",
    "            Row_No += 1\n",
    "            Conn.commit()\n",
    "            \n",
    "except Exception as e:\n",
    "    Conn.rollback()\n",
    "    print(e)"
   ]
  },
  {
   "cell_type": "code",
   "execution_count": 10,
   "id": "aeae883e",
   "metadata": {
    "scrolled": false
   },
   "outputs": [],
   "source": [
    "# Conn.close()\n",
    "# Cursor.close()"
   ]
  },
  {
   "cell_type": "code",
   "execution_count": null,
   "id": "88c23c77",
   "metadata": {},
   "outputs": [],
   "source": []
  },
  {
   "cell_type": "code",
   "execution_count": null,
   "id": "2da98e09",
   "metadata": {
    "scrolled": true
   },
   "outputs": [],
   "source": []
  }
 ],
 "metadata": {
  "kernelspec": {
   "display_name": "Python 3 (ipykernel)",
   "language": "python",
   "name": "python3"
  },
  "language_info": {
   "codemirror_mode": {
    "name": "ipython",
    "version": 3
   },
   "file_extension": ".py",
   "mimetype": "text/x-python",
   "name": "python",
   "nbconvert_exporter": "python",
   "pygments_lexer": "ipython3",
   "version": "3.11.3"
  }
 },
 "nbformat": 4,
 "nbformat_minor": 5
}
