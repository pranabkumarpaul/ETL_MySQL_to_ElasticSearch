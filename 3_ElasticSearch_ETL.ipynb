{
 "cells": [
  {
   "cell_type": "markdown",
   "id": "c684a3a1",
   "metadata": {},
   "source": [
    "<center><font size = 6><b>Read Data From MySQL DB & Load To Elasticsearch</b></font></center>"
   ]
  },
  {
   "cell_type": "markdown",
   "id": "c4a8c0c2",
   "metadata": {},
   "source": [
    "### Module"
   ]
  },
  {
   "cell_type": "code",
   "execution_count": 1,
   "id": "68d5801a",
   "metadata": {},
   "outputs": [],
   "source": [
    "# !pip install elasticsearch"
   ]
  },
  {
   "cell_type": "code",
   "execution_count": 2,
   "id": "db5c570e",
   "metadata": {},
   "outputs": [
    {
     "name": "stdout",
     "output_type": "stream",
     "text": [
      "Pandas Version :- 1.5.3\n",
      "PyMySQL Version :- 1.4.6\n",
      "ElasticSearch Version :- (8, 8, 2)\n"
     ]
    }
   ],
   "source": [
    "import warnings\n",
    "import json\n",
    "import pymysql\n",
    "import pandas as pd\n",
    "import elasticsearch\n",
    "from elasticsearch import helpers\n",
    "from elasticsearch import Elasticsearch\n",
    "\n",
    "warnings.filterwarnings(\"ignore\")\n",
    "\n",
    "print(f\"Pandas Version :- {pd.__version__}\")\n",
    "print(f\"PyMySQL Version :- {pymysql.__version__}\")\n",
    "print(f\"ElasticSearch Version :- {elasticsearch.VERSION}\")"
   ]
  },
  {
   "cell_type": "markdown",
   "id": "0dac4795",
   "metadata": {},
   "source": [
    "### Required Inputs"
   ]
  },
  {
   "cell_type": "code",
   "execution_count": 3,
   "id": "7d9ac97d",
   "metadata": {},
   "outputs": [],
   "source": [
    "DB_Schema= \"company\"\n",
    "DB_Table= \"employee_details\"\n",
    "SQL = f\"SELECT * FROM {DB_Schema}.{DB_Table}\"\n",
    "\n",
    "ES_Index = \"employee_details\"\n",
    "\n",
    "# Database Credentials\n",
    "db_username = 'root'\n",
    "db_password = 'MySql_1234'\n",
    "db_host = 'localhost'\n",
    "db_port = 3306\n",
    "DB_NAME = 'store'\n",
    "\n",
    "# ElasticSearch Credentials\n",
    "es_username = \"elastic\"\n",
    "es_password = \"admin\"\n",
    "es_hostname = \"localhost\"\n",
    "es_port = 9200"
   ]
  },
  {
   "cell_type": "markdown",
   "id": "575f0f87",
   "metadata": {},
   "source": [
    "### UDF"
   ]
  },
  {
   "cell_type": "code",
   "execution_count": 4,
   "id": "8007a9b2",
   "metadata": {},
   "outputs": [],
   "source": [
    "# MySQL DB Connection & Cursor\n",
    "def Create_DB_Connection(username,password,host,port):\n",
    "    return pymysql.connect(user = username,\n",
    "                           password = password,\n",
    "                           host = host,\n",
    "                           port = port)\n",
    "\n",
    "# ElasticSearch Conncetion\n",
    "def ElasticSearch_Conn(username,password,hostname,port):\n",
    "    url = f\"http://{username}:{password}@{hostname}:{port}\"\n",
    "    es = Elasticsearch([url] , timeout=60)\n",
    "    \n",
    "    return es\n",
    "\n",
    "### Create ELK Doc\n",
    "def ES_ELK_Generator(json_file, _index, doc_type, Hits):\n",
    "    for ID, doc in enumerate(json_file):\n",
    "        yield {\n",
    "            \"_index\"  : _index ,\n",
    "            \"_type\"   : doc_type ,\n",
    "            \"_id\"     : Hits + ID ,\n",
    "            \"_source\" : doc\n",
    "        }"
   ]
  },
  {
   "cell_type": "markdown",
   "id": "8d59b634",
   "metadata": {},
   "source": [
    "### Create Connections"
   ]
  },
  {
   "cell_type": "code",
   "execution_count": 5,
   "id": "73c9c235",
   "metadata": {},
   "outputs": [
    {
     "name": "stdout",
     "output_type": "stream",
     "text": [
      "ElasticSearch Connected ..\n",
      "\n",
      "ElasticSearch Connection Issue ...\n",
      "\n",
      "name 'es' is not defined\n"
     ]
    }
   ],
   "source": [
    "try:\n",
    "    ES_Conn = ElasticSearch_Conn(username=es_username ,\n",
    "                                 password=es_password,\n",
    "                                 hostname=es_hostname,\n",
    "                                 port=es_port)\n",
    "    if ES_Conn.ping():\n",
    "        print(\"ElasticSearch Connected ..\\n\")\n",
    "        print(es.info())\n",
    "except Exception as e:\n",
    "    print(\"ElasticSearch Connection Issue ...\\n\")\n",
    "    print(e)"
   ]
  },
  {
   "cell_type": "code",
   "execution_count": 6,
   "id": "efd26de0",
   "metadata": {},
   "outputs": [
    {
     "name": "stdout",
     "output_type": "stream",
     "text": [
      "Database Connected ...\n"
     ]
    }
   ],
   "source": [
    "try:\n",
    "    DB_Conn = Create_DB_Connection(username=db_username,\n",
    "                                password=db_password,\n",
    "                                host=db_host,\n",
    "                                port=db_port)\n",
    "    DB_Conn.autocommit = False\n",
    "#     Cursor = DB_Conn.cursor()\n",
    "    print(\"Database Connected ...\")\n",
    "    \n",
    "except Exception as e:\n",
    "    print(\"Database Connection Issue ..\\n\")\n",
    "    print(e)"
   ]
  },
  {
   "cell_type": "markdown",
   "id": "f298d0c6",
   "metadata": {},
   "source": [
    "### ElasticSearch Create Index If Not Exists"
   ]
  },
  {
   "cell_type": "code",
   "execution_count": 7,
   "id": "b9c798b7",
   "metadata": {},
   "outputs": [
    {
     "name": "stdout",
     "output_type": "stream",
     "text": [
      "Given index - employee_details not exists.\n",
      "Creating index - employee_details .. \n",
      "Refreshing index - employee_details ...\n",
      "Done ... \n"
     ]
    }
   ],
   "source": [
    "res = ES_Conn.indices.exists(index=ES_Index)\n",
    "\n",
    "if res:\n",
    "    print(f\"Given index - {ES_Index} exists.\")\n",
    "    print(f\"Refreshing Given index - {ES_Index} ...\")\n",
    "    ES_Conn.indices.refresh(index=ES_Index)\n",
    "    Index_Response = ES_Conn.indices.stats(index = ES_Index)\n",
    "    Total_Hits = Index_Response['_all']['primaries']['docs']['count']\n",
    "    print(f\"Total Hits for - {ES_Index} :- {Total_Hits}\")\n",
    "    print(\"Done ... \")\n",
    "else:\n",
    "    print(f\"Given index - {ES_Index} not exists.\")\n",
    "    print(f\"Creating index - {ES_Index} .. \")\n",
    "    ES_Conn.indices.create(index= ES_Index)\n",
    "    print(f\"Refreshing index - {ES_Index} ...\")\n",
    "    ES_Conn.indices.refresh(index=ES_Index)\n",
    "    Total_Hits = 0\n",
    "    print(\"Done ... \")"
   ]
  },
  {
   "cell_type": "markdown",
   "id": "8be42ec1",
   "metadata": {},
   "source": [
    "**Delete Index**"
   ]
  },
  {
   "cell_type": "code",
   "execution_count": 8,
   "id": "4af6f82d",
   "metadata": {},
   "outputs": [
    {
     "data": {
      "text/plain": [
       "ObjectApiResponse({'acknowledged': True})"
      ]
     },
     "execution_count": 8,
     "metadata": {},
     "output_type": "execute_result"
    }
   ],
   "source": [
    "ES_Conn.indices.delete(index=ES_Index)"
   ]
  },
  {
   "cell_type": "markdown",
   "id": "6aa81441",
   "metadata": {},
   "source": [
    "### Read, Transform The Data For ElasticSearch & Load"
   ]
  },
  {
   "cell_type": "code",
   "execution_count": 9,
   "id": "630095df",
   "metadata": {},
   "outputs": [
    {
     "data": {
      "text/plain": [
       "(100, [])"
      ]
     },
     "execution_count": 9,
     "metadata": {},
     "output_type": "execute_result"
    }
   ],
   "source": [
    "df = pd.read_sql(SQL,DB_Conn)\n",
    "df = df.to_json(orient='records')\n",
    "df = json.loads(df)\n",
    "\n",
    "helpers.bulk(ES_Conn, ES_ELK_Generator(json_file=df,\n",
    "                                       _index=ES_Index,\n",
    "                                       doc_type=\"records\",\n",
    "                                       Hits = Total_Hits)\n",
    "            )"
   ]
  },
  {
   "cell_type": "code",
   "execution_count": 10,
   "id": "67524483",
   "metadata": {},
   "outputs": [],
   "source": [
    "DB_Conn.close()"
   ]
  },
  {
   "cell_type": "code",
   "execution_count": null,
   "id": "0894de90",
   "metadata": {},
   "outputs": [],
   "source": []
  }
 ],
 "metadata": {
  "kernelspec": {
   "display_name": "Python 3 (ipykernel)",
   "language": "python",
   "name": "python3"
  },
  "language_info": {
   "codemirror_mode": {
    "name": "ipython",
    "version": 3
   },
   "file_extension": ".py",
   "mimetype": "text/x-python",
   "name": "python",
   "nbconvert_exporter": "python",
   "pygments_lexer": "ipython3",
   "version": "3.11.3"
  }
 },
 "nbformat": 4,
 "nbformat_minor": 5
}
